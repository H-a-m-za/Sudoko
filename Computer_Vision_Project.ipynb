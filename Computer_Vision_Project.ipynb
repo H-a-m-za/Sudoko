{
  "nbformat": 4,
  "nbformat_minor": 0,
  "metadata": {
    "colab": {
      "provenance": []
    },
    "kernelspec": {
      "name": "python3",
      "display_name": "Python 3"
    },
    "language_info": {
      "name": "python"
    }
  },
  "cells": [
    {
      "cell_type": "markdown",
      "source": [
        "PHASE I"
      ],
      "metadata": {
        "id": "iVAU8EQWz8D8"
      }
    },
    {
      "cell_type": "code",
      "source": [
        "#importing used libraries and loading dataset\n"
      ],
      "metadata": {
        "id": "q9eKpE9U0AhS"
      },
      "execution_count": null,
      "outputs": []
    }
  ]
}